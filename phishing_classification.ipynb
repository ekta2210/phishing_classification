{
 "cells": [
  {
   "cell_type": "code",
   "execution_count": 1,
   "id": "34594d67",
   "metadata": {},
   "outputs": [],
   "source": [
    "import numpy as np\n",
    "import pandas as pd\n",
    "import matplotlib.pyplot as plt\n",
    "import seaborn as sns"
   ]
  },
  {
   "cell_type": "code",
   "execution_count": 2,
   "id": "4ea732e7",
   "metadata": {},
   "outputs": [],
   "source": [
    "df = pd.read_csv('dataset_cybersecurity_michelle.csv')"
   ]
  },
  {
   "cell_type": "code",
   "execution_count": 3,
   "id": "68771b12",
   "metadata": {},
   "outputs": [
    {
     "data": {
      "text/html": [
       "<div>\n",
       "<style scoped>\n",
       "    .dataframe tbody tr th:only-of-type {\n",
       "        vertical-align: middle;\n",
       "    }\n",
       "\n",
       "    .dataframe tbody tr th {\n",
       "        vertical-align: top;\n",
       "    }\n",
       "\n",
       "    .dataframe thead th {\n",
       "        text-align: right;\n",
       "    }\n",
       "</style>\n",
       "<table border=\"1\" class=\"dataframe\">\n",
       "  <thead>\n",
       "    <tr style=\"text-align: right;\">\n",
       "      <th></th>\n",
       "      <th>qty_dot_url</th>\n",
       "      <th>qty_hyphen_url</th>\n",
       "      <th>qty_underline_url</th>\n",
       "      <th>qty_slash_url</th>\n",
       "      <th>qty_questionmark_url</th>\n",
       "      <th>qty_equal_url</th>\n",
       "      <th>qty_at_url</th>\n",
       "      <th>qty_and_url</th>\n",
       "      <th>qty_exclamation_url</th>\n",
       "      <th>qty_space_url</th>\n",
       "      <th>...</th>\n",
       "      <th>qty_ip_resolved</th>\n",
       "      <th>qty_nameservers</th>\n",
       "      <th>qty_mx_servers</th>\n",
       "      <th>ttl_hostname</th>\n",
       "      <th>tls_ssl_certificate</th>\n",
       "      <th>qty_redirects</th>\n",
       "      <th>url_google_index</th>\n",
       "      <th>domain_google_index</th>\n",
       "      <th>url_shortened</th>\n",
       "      <th>phishing</th>\n",
       "    </tr>\n",
       "  </thead>\n",
       "  <tbody>\n",
       "    <tr>\n",
       "      <th>0</th>\n",
       "      <td>1</td>\n",
       "      <td>0</td>\n",
       "      <td>0</td>\n",
       "      <td>1</td>\n",
       "      <td>0</td>\n",
       "      <td>0</td>\n",
       "      <td>0</td>\n",
       "      <td>0</td>\n",
       "      <td>0</td>\n",
       "      <td>0</td>\n",
       "      <td>...</td>\n",
       "      <td>2</td>\n",
       "      <td>2</td>\n",
       "      <td>5</td>\n",
       "      <td>292</td>\n",
       "      <td>0</td>\n",
       "      <td>-1</td>\n",
       "      <td>0</td>\n",
       "      <td>0</td>\n",
       "      <td>0</td>\n",
       "      <td>1</td>\n",
       "    </tr>\n",
       "    <tr>\n",
       "      <th>1</th>\n",
       "      <td>2</td>\n",
       "      <td>5</td>\n",
       "      <td>4</td>\n",
       "      <td>2</td>\n",
       "      <td>0</td>\n",
       "      <td>0</td>\n",
       "      <td>0</td>\n",
       "      <td>0</td>\n",
       "      <td>0</td>\n",
       "      <td>0</td>\n",
       "      <td>...</td>\n",
       "      <td>2</td>\n",
       "      <td>4</td>\n",
       "      <td>2</td>\n",
       "      <td>52</td>\n",
       "      <td>0</td>\n",
       "      <td>1</td>\n",
       "      <td>0</td>\n",
       "      <td>0</td>\n",
       "      <td>0</td>\n",
       "      <td>1</td>\n",
       "    </tr>\n",
       "    <tr>\n",
       "      <th>2</th>\n",
       "      <td>2</td>\n",
       "      <td>0</td>\n",
       "      <td>0</td>\n",
       "      <td>0</td>\n",
       "      <td>0</td>\n",
       "      <td>0</td>\n",
       "      <td>0</td>\n",
       "      <td>0</td>\n",
       "      <td>0</td>\n",
       "      <td>0</td>\n",
       "      <td>...</td>\n",
       "      <td>2</td>\n",
       "      <td>2</td>\n",
       "      <td>0</td>\n",
       "      <td>298</td>\n",
       "      <td>1</td>\n",
       "      <td>1</td>\n",
       "      <td>0</td>\n",
       "      <td>0</td>\n",
       "      <td>0</td>\n",
       "      <td>0</td>\n",
       "    </tr>\n",
       "    <tr>\n",
       "      <th>3</th>\n",
       "      <td>1</td>\n",
       "      <td>1</td>\n",
       "      <td>0</td>\n",
       "      <td>2</td>\n",
       "      <td>0</td>\n",
       "      <td>0</td>\n",
       "      <td>0</td>\n",
       "      <td>0</td>\n",
       "      <td>0</td>\n",
       "      <td>0</td>\n",
       "      <td>...</td>\n",
       "      <td>1</td>\n",
       "      <td>2</td>\n",
       "      <td>5</td>\n",
       "      <td>1792</td>\n",
       "      <td>0</td>\n",
       "      <td>0</td>\n",
       "      <td>0</td>\n",
       "      <td>0</td>\n",
       "      <td>0</td>\n",
       "      <td>1</td>\n",
       "    </tr>\n",
       "    <tr>\n",
       "      <th>4</th>\n",
       "      <td>2</td>\n",
       "      <td>1</td>\n",
       "      <td>0</td>\n",
       "      <td>0</td>\n",
       "      <td>0</td>\n",
       "      <td>0</td>\n",
       "      <td>0</td>\n",
       "      <td>0</td>\n",
       "      <td>0</td>\n",
       "      <td>0</td>\n",
       "      <td>...</td>\n",
       "      <td>1</td>\n",
       "      <td>2</td>\n",
       "      <td>1</td>\n",
       "      <td>299</td>\n",
       "      <td>1</td>\n",
       "      <td>1</td>\n",
       "      <td>0</td>\n",
       "      <td>0</td>\n",
       "      <td>0</td>\n",
       "      <td>0</td>\n",
       "    </tr>\n",
       "  </tbody>\n",
       "</table>\n",
       "<p>5 rows × 112 columns</p>\n",
       "</div>"
      ],
      "text/plain": [
       "   qty_dot_url  qty_hyphen_url  qty_underline_url  qty_slash_url  \\\n",
       "0            1               0                  0              1   \n",
       "1            2               5                  4              2   \n",
       "2            2               0                  0              0   \n",
       "3            1               1                  0              2   \n",
       "4            2               1                  0              0   \n",
       "\n",
       "   qty_questionmark_url  qty_equal_url  qty_at_url  qty_and_url  \\\n",
       "0                     0              0           0            0   \n",
       "1                     0              0           0            0   \n",
       "2                     0              0           0            0   \n",
       "3                     0              0           0            0   \n",
       "4                     0              0           0            0   \n",
       "\n",
       "   qty_exclamation_url  qty_space_url  ...  qty_ip_resolved  qty_nameservers  \\\n",
       "0                    0              0  ...                2                2   \n",
       "1                    0              0  ...                2                4   \n",
       "2                    0              0  ...                2                2   \n",
       "3                    0              0  ...                1                2   \n",
       "4                    0              0  ...                1                2   \n",
       "\n",
       "   qty_mx_servers  ttl_hostname  tls_ssl_certificate  qty_redirects  \\\n",
       "0               5           292                    0             -1   \n",
       "1               2            52                    0              1   \n",
       "2               0           298                    1              1   \n",
       "3               5          1792                    0              0   \n",
       "4               1           299                    1              1   \n",
       "\n",
       "   url_google_index  domain_google_index  url_shortened  phishing  \n",
       "0                 0                    0              0         1  \n",
       "1                 0                    0              0         1  \n",
       "2                 0                    0              0         0  \n",
       "3                 0                    0              0         1  \n",
       "4                 0                    0              0         0  \n",
       "\n",
       "[5 rows x 112 columns]"
      ]
     },
     "execution_count": 3,
     "metadata": {},
     "output_type": "execute_result"
    }
   ],
   "source": [
    "df.head()\n",
    "df.tail()"
   ]
  },
  {
   "cell_type": "code",
   "execution_count": 4,
   "id": "b74d6937",
   "metadata": {},
   "outputs": [
    {
     "data": {
      "text/plain": [
       "Index(['qty_dot_url', 'qty_hyphen_url', 'qty_underline_url', 'qty_slash_url',\n",
       "       'qty_questionmark_url', 'qty_equal_url', 'qty_at_url', 'qty_and_url',\n",
       "       'qty_exclamation_url', 'qty_space_url',\n",
       "       ...\n",
       "       'qty_ip_resolved', 'qty_nameservers', 'qty_mx_servers', 'ttl_hostname',\n",
       "       'tls_ssl_certificate', 'qty_redirects', 'url_google_index',\n",
       "       'domain_google_index', 'url_shortened', 'phishing'],\n",
       "      dtype='object', length=112)"
      ]
     },
     "execution_count": 4,
     "metadata": {},
     "output_type": "execute_result"
    }
   ],
   "source": [
    "df.columns"
   ]
  },
  {
   "cell_type": "code",
   "execution_count": 5,
   "id": "316e28f2",
   "metadata": {},
   "outputs": [
    {
     "name": "stdout",
     "output_type": "stream",
     "text": [
      "<class 'pandas.core.frame.DataFrame'>\n",
      "RangeIndex: 129698 entries, 0 to 129697\n",
      "Columns: 112 entries, qty_dot_url to phishing\n",
      "dtypes: float64(1), int64(111)\n",
      "memory usage: 110.8 MB\n"
     ]
    }
   ],
   "source": [
    "df.info()"
   ]
  },
  {
   "cell_type": "code",
   "execution_count": 6,
   "id": "8e4e84c9",
   "metadata": {},
   "outputs": [
    {
     "data": {
      "text/html": [
       "<div>\n",
       "<style scoped>\n",
       "    .dataframe tbody tr th:only-of-type {\n",
       "        vertical-align: middle;\n",
       "    }\n",
       "\n",
       "    .dataframe tbody tr th {\n",
       "        vertical-align: top;\n",
       "    }\n",
       "\n",
       "    .dataframe thead th {\n",
       "        text-align: right;\n",
       "    }\n",
       "</style>\n",
       "<table border=\"1\" class=\"dataframe\">\n",
       "  <thead>\n",
       "    <tr style=\"text-align: right;\">\n",
       "      <th></th>\n",
       "      <th>qty_dot_url</th>\n",
       "      <th>qty_hyphen_url</th>\n",
       "      <th>qty_underline_url</th>\n",
       "      <th>qty_slash_url</th>\n",
       "      <th>qty_questionmark_url</th>\n",
       "      <th>qty_equal_url</th>\n",
       "      <th>qty_at_url</th>\n",
       "      <th>qty_and_url</th>\n",
       "      <th>qty_exclamation_url</th>\n",
       "      <th>qty_space_url</th>\n",
       "      <th>...</th>\n",
       "      <th>qty_ip_resolved</th>\n",
       "      <th>qty_nameservers</th>\n",
       "      <th>qty_mx_servers</th>\n",
       "      <th>ttl_hostname</th>\n",
       "      <th>tls_ssl_certificate</th>\n",
       "      <th>qty_redirects</th>\n",
       "      <th>url_google_index</th>\n",
       "      <th>domain_google_index</th>\n",
       "      <th>url_shortened</th>\n",
       "      <th>phishing</th>\n",
       "    </tr>\n",
       "  </thead>\n",
       "  <tbody>\n",
       "    <tr>\n",
       "      <th>count</th>\n",
       "      <td>129698.000000</td>\n",
       "      <td>129698.000000</td>\n",
       "      <td>129698.000000</td>\n",
       "      <td>129698.000000</td>\n",
       "      <td>129698.000000</td>\n",
       "      <td>129698.000000</td>\n",
       "      <td>129698.000000</td>\n",
       "      <td>129698.000000</td>\n",
       "      <td>129698.000000</td>\n",
       "      <td>129698.000000</td>\n",
       "      <td>...</td>\n",
       "      <td>129698.000000</td>\n",
       "      <td>129698.000000</td>\n",
       "      <td>129698.000000</td>\n",
       "      <td>129698.000000</td>\n",
       "      <td>129698.000000</td>\n",
       "      <td>129698.000000</td>\n",
       "      <td>129698.000000</td>\n",
       "      <td>129698.000000</td>\n",
       "      <td>129698.000000</td>\n",
       "      <td>129698.000000</td>\n",
       "    </tr>\n",
       "    <tr>\n",
       "      <th>mean</th>\n",
       "      <td>2.220612</td>\n",
       "      <td>0.370044</td>\n",
       "      <td>0.132392</td>\n",
       "      <td>1.489892</td>\n",
       "      <td>0.010956</td>\n",
       "      <td>0.240459</td>\n",
       "      <td>0.025683</td>\n",
       "      <td>0.163750</td>\n",
       "      <td>0.003547</td>\n",
       "      <td>0.001234</td>\n",
       "      <td>...</td>\n",
       "      <td>1.130788</td>\n",
       "      <td>2.790490</td>\n",
       "      <td>1.710851</td>\n",
       "      <td>5806.972528</td>\n",
       "      <td>0.505382</td>\n",
       "      <td>0.332341</td>\n",
       "      <td>0.001365</td>\n",
       "      <td>0.002051</td>\n",
       "      <td>0.006369</td>\n",
       "      <td>0.402103</td>\n",
       "    </tr>\n",
       "    <tr>\n",
       "      <th>std</th>\n",
       "      <td>1.314717</td>\n",
       "      <td>1.199731</td>\n",
       "      <td>0.706240</td>\n",
       "      <td>1.963822</td>\n",
       "      <td>0.123975</td>\n",
       "      <td>1.027070</td>\n",
       "      <td>0.292883</td>\n",
       "      <td>0.991589</td>\n",
       "      <td>0.098266</td>\n",
       "      <td>0.081421</td>\n",
       "      <td>...</td>\n",
       "      <td>0.903889</td>\n",
       "      <td>1.339672</td>\n",
       "      <td>1.714852</td>\n",
       "      <td>10286.320400</td>\n",
       "      <td>0.499973</td>\n",
       "      <td>0.793889</td>\n",
       "      <td>0.052740</td>\n",
       "      <td>0.058474</td>\n",
       "      <td>0.079550</td>\n",
       "      <td>0.490324</td>\n",
       "    </tr>\n",
       "    <tr>\n",
       "      <th>min</th>\n",
       "      <td>1.000000</td>\n",
       "      <td>0.000000</td>\n",
       "      <td>0.000000</td>\n",
       "      <td>0.000000</td>\n",
       "      <td>0.000000</td>\n",
       "      <td>0.000000</td>\n",
       "      <td>0.000000</td>\n",
       "      <td>0.000000</td>\n",
       "      <td>0.000000</td>\n",
       "      <td>0.000000</td>\n",
       "      <td>...</td>\n",
       "      <td>-1.000000</td>\n",
       "      <td>0.000000</td>\n",
       "      <td>0.000000</td>\n",
       "      <td>-1.000000</td>\n",
       "      <td>0.000000</td>\n",
       "      <td>-1.000000</td>\n",
       "      <td>-1.000000</td>\n",
       "      <td>-1.000000</td>\n",
       "      <td>0.000000</td>\n",
       "      <td>0.000000</td>\n",
       "    </tr>\n",
       "    <tr>\n",
       "      <th>25%</th>\n",
       "      <td>2.000000</td>\n",
       "      <td>0.000000</td>\n",
       "      <td>0.000000</td>\n",
       "      <td>0.000000</td>\n",
       "      <td>0.000000</td>\n",
       "      <td>0.000000</td>\n",
       "      <td>0.000000</td>\n",
       "      <td>0.000000</td>\n",
       "      <td>0.000000</td>\n",
       "      <td>0.000000</td>\n",
       "      <td>...</td>\n",
       "      <td>1.000000</td>\n",
       "      <td>2.000000</td>\n",
       "      <td>1.000000</td>\n",
       "      <td>291.000000</td>\n",
       "      <td>0.000000</td>\n",
       "      <td>0.000000</td>\n",
       "      <td>0.000000</td>\n",
       "      <td>0.000000</td>\n",
       "      <td>0.000000</td>\n",
       "      <td>0.000000</td>\n",
       "    </tr>\n",
       "    <tr>\n",
       "      <th>50%</th>\n",
       "      <td>2.000000</td>\n",
       "      <td>0.000000</td>\n",
       "      <td>0.000000</td>\n",
       "      <td>1.000000</td>\n",
       "      <td>0.000000</td>\n",
       "      <td>0.000000</td>\n",
       "      <td>0.000000</td>\n",
       "      <td>0.000000</td>\n",
       "      <td>0.000000</td>\n",
       "      <td>0.000000</td>\n",
       "      <td>...</td>\n",
       "      <td>1.000000</td>\n",
       "      <td>2.000000</td>\n",
       "      <td>1.000000</td>\n",
       "      <td>1796.000000</td>\n",
       "      <td>1.000000</td>\n",
       "      <td>0.000000</td>\n",
       "      <td>0.000000</td>\n",
       "      <td>0.000000</td>\n",
       "      <td>0.000000</td>\n",
       "      <td>0.000000</td>\n",
       "    </tr>\n",
       "    <tr>\n",
       "      <th>75%</th>\n",
       "      <td>2.000000</td>\n",
       "      <td>0.000000</td>\n",
       "      <td>0.000000</td>\n",
       "      <td>3.000000</td>\n",
       "      <td>0.000000</td>\n",
       "      <td>0.000000</td>\n",
       "      <td>0.000000</td>\n",
       "      <td>0.000000</td>\n",
       "      <td>0.000000</td>\n",
       "      <td>0.000000</td>\n",
       "      <td>...</td>\n",
       "      <td>1.000000</td>\n",
       "      <td>4.000000</td>\n",
       "      <td>2.000000</td>\n",
       "      <td>10791.000000</td>\n",
       "      <td>1.000000</td>\n",
       "      <td>1.000000</td>\n",
       "      <td>0.000000</td>\n",
       "      <td>0.000000</td>\n",
       "      <td>0.000000</td>\n",
       "      <td>1.000000</td>\n",
       "    </tr>\n",
       "    <tr>\n",
       "      <th>max</th>\n",
       "      <td>24.000000</td>\n",
       "      <td>35.000000</td>\n",
       "      <td>21.000000</td>\n",
       "      <td>44.000000</td>\n",
       "      <td>9.000000</td>\n",
       "      <td>23.000000</td>\n",
       "      <td>43.000000</td>\n",
       "      <td>26.000000</td>\n",
       "      <td>10.000000</td>\n",
       "      <td>9.000000</td>\n",
       "      <td>...</td>\n",
       "      <td>24.000000</td>\n",
       "      <td>20.000000</td>\n",
       "      <td>20.000000</td>\n",
       "      <td>604800.000000</td>\n",
       "      <td>1.000000</td>\n",
       "      <td>17.000000</td>\n",
       "      <td>1.000000</td>\n",
       "      <td>1.000000</td>\n",
       "      <td>1.000000</td>\n",
       "      <td>1.000000</td>\n",
       "    </tr>\n",
       "  </tbody>\n",
       "</table>\n",
       "<p>8 rows × 112 columns</p>\n",
       "</div>"
      ],
      "text/plain": [
       "         qty_dot_url  qty_hyphen_url  qty_underline_url  qty_slash_url  \\\n",
       "count  129698.000000   129698.000000      129698.000000  129698.000000   \n",
       "mean        2.220612        0.370044           0.132392       1.489892   \n",
       "std         1.314717        1.199731           0.706240       1.963822   \n",
       "min         1.000000        0.000000           0.000000       0.000000   \n",
       "25%         2.000000        0.000000           0.000000       0.000000   \n",
       "50%         2.000000        0.000000           0.000000       1.000000   \n",
       "75%         2.000000        0.000000           0.000000       3.000000   \n",
       "max        24.000000       35.000000          21.000000      44.000000   \n",
       "\n",
       "       qty_questionmark_url  qty_equal_url     qty_at_url    qty_and_url  \\\n",
       "count         129698.000000  129698.000000  129698.000000  129698.000000   \n",
       "mean               0.010956       0.240459       0.025683       0.163750   \n",
       "std                0.123975       1.027070       0.292883       0.991589   \n",
       "min                0.000000       0.000000       0.000000       0.000000   \n",
       "25%                0.000000       0.000000       0.000000       0.000000   \n",
       "50%                0.000000       0.000000       0.000000       0.000000   \n",
       "75%                0.000000       0.000000       0.000000       0.000000   \n",
       "max                9.000000      23.000000      43.000000      26.000000   \n",
       "\n",
       "       qty_exclamation_url  qty_space_url  ...  qty_ip_resolved  \\\n",
       "count        129698.000000  129698.000000  ...    129698.000000   \n",
       "mean              0.003547       0.001234  ...         1.130788   \n",
       "std               0.098266       0.081421  ...         0.903889   \n",
       "min               0.000000       0.000000  ...        -1.000000   \n",
       "25%               0.000000       0.000000  ...         1.000000   \n",
       "50%               0.000000       0.000000  ...         1.000000   \n",
       "75%               0.000000       0.000000  ...         1.000000   \n",
       "max              10.000000       9.000000  ...        24.000000   \n",
       "\n",
       "       qty_nameservers  qty_mx_servers   ttl_hostname  tls_ssl_certificate  \\\n",
       "count    129698.000000   129698.000000  129698.000000        129698.000000   \n",
       "mean          2.790490        1.710851    5806.972528             0.505382   \n",
       "std           1.339672        1.714852   10286.320400             0.499973   \n",
       "min           0.000000        0.000000      -1.000000             0.000000   \n",
       "25%           2.000000        1.000000     291.000000             0.000000   \n",
       "50%           2.000000        1.000000    1796.000000             1.000000   \n",
       "75%           4.000000        2.000000   10791.000000             1.000000   \n",
       "max          20.000000       20.000000  604800.000000             1.000000   \n",
       "\n",
       "       qty_redirects  url_google_index  domain_google_index  url_shortened  \\\n",
       "count  129698.000000     129698.000000        129698.000000  129698.000000   \n",
       "mean        0.332341          0.001365             0.002051       0.006369   \n",
       "std         0.793889          0.052740             0.058474       0.079550   \n",
       "min        -1.000000         -1.000000            -1.000000       0.000000   \n",
       "25%         0.000000          0.000000             0.000000       0.000000   \n",
       "50%         0.000000          0.000000             0.000000       0.000000   \n",
       "75%         1.000000          0.000000             0.000000       0.000000   \n",
       "max        17.000000          1.000000             1.000000       1.000000   \n",
       "\n",
       "            phishing  \n",
       "count  129698.000000  \n",
       "mean        0.402103  \n",
       "std         0.490324  \n",
       "min         0.000000  \n",
       "25%         0.000000  \n",
       "50%         0.000000  \n",
       "75%         1.000000  \n",
       "max         1.000000  \n",
       "\n",
       "[8 rows x 112 columns]"
      ]
     },
     "execution_count": 6,
     "metadata": {},
     "output_type": "execute_result"
    }
   ],
   "source": [
    "df.describe()"
   ]
  },
  {
   "cell_type": "code",
   "execution_count": 7,
   "id": "288e8629",
   "metadata": {},
   "outputs": [
    {
     "data": {
      "text/plain": [
       "qty_dot_url             0\n",
       "qty_hyphen_url          0\n",
       "qty_underline_url       0\n",
       "qty_slash_url           0\n",
       "qty_questionmark_url    0\n",
       "                       ..\n",
       "qty_redirects           0\n",
       "url_google_index        0\n",
       "domain_google_index     0\n",
       "url_shortened           0\n",
       "phishing                0\n",
       "Length: 112, dtype: int64"
      ]
     },
     "execution_count": 7,
     "metadata": {},
     "output_type": "execute_result"
    }
   ],
   "source": [
    "df.isnull().sum()"
   ]
  },
  {
   "cell_type": "code",
   "execution_count": 8,
   "id": "964f6654",
   "metadata": {},
   "outputs": [
    {
     "data": {
      "text/plain": [
       "qty_dot_url             129698\n",
       "qty_hyphen_url           25047\n",
       "qty_underline_url         9062\n",
       "qty_slash_url            69995\n",
       "qty_questionmark_url      1274\n",
       "                         ...  \n",
       "qty_redirects            52984\n",
       "url_google_index           361\n",
       "domain_google_index        444\n",
       "url_shortened              826\n",
       "phishing                 52152\n",
       "Length: 112, dtype: int64"
      ]
     },
     "execution_count": 8,
     "metadata": {},
     "output_type": "execute_result"
    }
   ],
   "source": [
    "non_zero_counts = (df != 0).sum()\n",
    "non_zero_counts"
   ]
  },
  {
   "cell_type": "code",
   "execution_count": 9,
   "id": "5ec62145",
   "metadata": {},
   "outputs": [
    {
     "data": {
      "text/html": [
       "<div>\n",
       "<style scoped>\n",
       "    .dataframe tbody tr th:only-of-type {\n",
       "        vertical-align: middle;\n",
       "    }\n",
       "\n",
       "    .dataframe tbody tr th {\n",
       "        vertical-align: top;\n",
       "    }\n",
       "\n",
       "    .dataframe thead th {\n",
       "        text-align: right;\n",
       "    }\n",
       "</style>\n",
       "<table border=\"1\" class=\"dataframe\">\n",
       "  <thead>\n",
       "    <tr style=\"text-align: right;\">\n",
       "      <th></th>\n",
       "      <th>qty_dot_url</th>\n",
       "      <th>qty_hyphen_url</th>\n",
       "      <th>qty_underline_url</th>\n",
       "      <th>qty_slash_url</th>\n",
       "      <th>qty_questionmark_url</th>\n",
       "      <th>qty_equal_url</th>\n",
       "      <th>qty_at_url</th>\n",
       "      <th>qty_and_url</th>\n",
       "      <th>qty_exclamation_url</th>\n",
       "      <th>qty_space_url</th>\n",
       "      <th>...</th>\n",
       "      <th>qty_ip_resolved</th>\n",
       "      <th>qty_nameservers</th>\n",
       "      <th>qty_mx_servers</th>\n",
       "      <th>ttl_hostname</th>\n",
       "      <th>tls_ssl_certificate</th>\n",
       "      <th>qty_redirects</th>\n",
       "      <th>url_google_index</th>\n",
       "      <th>domain_google_index</th>\n",
       "      <th>url_shortened</th>\n",
       "      <th>phishing</th>\n",
       "    </tr>\n",
       "  </thead>\n",
       "  <tbody>\n",
       "    <tr>\n",
       "      <th>qty_dot_url</th>\n",
       "      <td>1.000000</td>\n",
       "      <td>0.107600</td>\n",
       "      <td>0.126028</td>\n",
       "      <td>0.242210</td>\n",
       "      <td>0.405045</td>\n",
       "      <td>0.494532</td>\n",
       "      <td>0.174910</td>\n",
       "      <td>0.547784</td>\n",
       "      <td>0.005283</td>\n",
       "      <td>-0.002614</td>\n",
       "      <td>...</td>\n",
       "      <td>-0.053114</td>\n",
       "      <td>-0.020060</td>\n",
       "      <td>-0.048746</td>\n",
       "      <td>0.019453</td>\n",
       "      <td>-0.065235</td>\n",
       "      <td>-0.050434</td>\n",
       "      <td>-0.005120</td>\n",
       "      <td>-0.003077</td>\n",
       "      <td>-0.061796</td>\n",
       "      <td>0.163043</td>\n",
       "    </tr>\n",
       "    <tr>\n",
       "      <th>qty_hyphen_url</th>\n",
       "      <td>0.107600</td>\n",
       "      <td>1.000000</td>\n",
       "      <td>0.215302</td>\n",
       "      <td>0.295733</td>\n",
       "      <td>0.059986</td>\n",
       "      <td>0.172197</td>\n",
       "      <td>0.040471</td>\n",
       "      <td>0.126448</td>\n",
       "      <td>0.018232</td>\n",
       "      <td>0.018927</td>\n",
       "      <td>...</td>\n",
       "      <td>0.037064</td>\n",
       "      <td>0.031053</td>\n",
       "      <td>-0.021645</td>\n",
       "      <td>-0.029828</td>\n",
       "      <td>0.011912</td>\n",
       "      <td>0.004012</td>\n",
       "      <td>-0.003107</td>\n",
       "      <td>0.009954</td>\n",
       "      <td>-0.012898</td>\n",
       "      <td>0.184028</td>\n",
       "    </tr>\n",
       "    <tr>\n",
       "      <th>qty_underline_url</th>\n",
       "      <td>0.126028</td>\n",
       "      <td>0.215302</td>\n",
       "      <td>1.000000</td>\n",
       "      <td>0.239987</td>\n",
       "      <td>0.069116</td>\n",
       "      <td>0.334090</td>\n",
       "      <td>0.055727</td>\n",
       "      <td>0.257867</td>\n",
       "      <td>0.065449</td>\n",
       "      <td>-0.000963</td>\n",
       "      <td>...</td>\n",
       "      <td>0.006283</td>\n",
       "      <td>0.021852</td>\n",
       "      <td>-0.005985</td>\n",
       "      <td>-0.025794</td>\n",
       "      <td>0.014261</td>\n",
       "      <td>-0.013307</td>\n",
       "      <td>-0.002160</td>\n",
       "      <td>0.003320</td>\n",
       "      <td>-0.014459</td>\n",
       "      <td>0.181386</td>\n",
       "    </tr>\n",
       "    <tr>\n",
       "      <th>qty_slash_url</th>\n",
       "      <td>0.242210</td>\n",
       "      <td>0.295733</td>\n",
       "      <td>0.239987</td>\n",
       "      <td>1.000000</td>\n",
       "      <td>0.178576</td>\n",
       "      <td>0.276467</td>\n",
       "      <td>0.099174</td>\n",
       "      <td>0.194551</td>\n",
       "      <td>0.022920</td>\n",
       "      <td>0.013435</td>\n",
       "      <td>...</td>\n",
       "      <td>-0.045430</td>\n",
       "      <td>-0.045476</td>\n",
       "      <td>-0.036069</td>\n",
       "      <td>-0.001656</td>\n",
       "      <td>-0.017637</td>\n",
       "      <td>-0.041647</td>\n",
       "      <td>-0.006157</td>\n",
       "      <td>0.010856</td>\n",
       "      <td>-0.009459</td>\n",
       "      <td>0.673132</td>\n",
       "    </tr>\n",
       "    <tr>\n",
       "      <th>qty_questionmark_url</th>\n",
       "      <td>0.405045</td>\n",
       "      <td>0.059986</td>\n",
       "      <td>0.069116</td>\n",
       "      <td>0.178576</td>\n",
       "      <td>1.000000</td>\n",
       "      <td>0.454710</td>\n",
       "      <td>0.135158</td>\n",
       "      <td>0.461259</td>\n",
       "      <td>0.018329</td>\n",
       "      <td>0.004008</td>\n",
       "      <td>...</td>\n",
       "      <td>-0.027374</td>\n",
       "      <td>-0.004702</td>\n",
       "      <td>-0.031665</td>\n",
       "      <td>-0.004418</td>\n",
       "      <td>-0.043555</td>\n",
       "      <td>-0.022817</td>\n",
       "      <td>0.014222</td>\n",
       "      <td>0.011791</td>\n",
       "      <td>0.011688</td>\n",
       "      <td>0.105353</td>\n",
       "    </tr>\n",
       "    <tr>\n",
       "      <th>...</th>\n",
       "      <td>...</td>\n",
       "      <td>...</td>\n",
       "      <td>...</td>\n",
       "      <td>...</td>\n",
       "      <td>...</td>\n",
       "      <td>...</td>\n",
       "      <td>...</td>\n",
       "      <td>...</td>\n",
       "      <td>...</td>\n",
       "      <td>...</td>\n",
       "      <td>...</td>\n",
       "      <td>...</td>\n",
       "      <td>...</td>\n",
       "      <td>...</td>\n",
       "      <td>...</td>\n",
       "      <td>...</td>\n",
       "      <td>...</td>\n",
       "      <td>...</td>\n",
       "      <td>...</td>\n",
       "      <td>...</td>\n",
       "      <td>...</td>\n",
       "    </tr>\n",
       "    <tr>\n",
       "      <th>qty_redirects</th>\n",
       "      <td>-0.050434</td>\n",
       "      <td>0.004012</td>\n",
       "      <td>-0.013307</td>\n",
       "      <td>-0.041647</td>\n",
       "      <td>-0.022817</td>\n",
       "      <td>-0.042616</td>\n",
       "      <td>-0.018206</td>\n",
       "      <td>-0.029611</td>\n",
       "      <td>0.004559</td>\n",
       "      <td>-0.007178</td>\n",
       "      <td>...</td>\n",
       "      <td>0.281807</td>\n",
       "      <td>0.048744</td>\n",
       "      <td>0.129974</td>\n",
       "      <td>0.007350</td>\n",
       "      <td>0.290426</td>\n",
       "      <td>1.000000</td>\n",
       "      <td>0.027470</td>\n",
       "      <td>0.024183</td>\n",
       "      <td>0.052923</td>\n",
       "      <td>-0.057070</td>\n",
       "    </tr>\n",
       "    <tr>\n",
       "      <th>url_google_index</th>\n",
       "      <td>-0.005120</td>\n",
       "      <td>-0.003107</td>\n",
       "      <td>-0.002160</td>\n",
       "      <td>-0.006157</td>\n",
       "      <td>0.014222</td>\n",
       "      <td>-0.000080</td>\n",
       "      <td>-0.002269</td>\n",
       "      <td>-0.000145</td>\n",
       "      <td>-0.000934</td>\n",
       "      <td>-0.000392</td>\n",
       "      <td>...</td>\n",
       "      <td>0.031676</td>\n",
       "      <td>0.033838</td>\n",
       "      <td>0.015275</td>\n",
       "      <td>0.005297</td>\n",
       "      <td>0.020628</td>\n",
       "      <td>0.027470</td>\n",
       "      <td>1.000000</td>\n",
       "      <td>0.601630</td>\n",
       "      <td>-0.002072</td>\n",
       "      <td>-0.010189</td>\n",
       "    </tr>\n",
       "    <tr>\n",
       "      <th>domain_google_index</th>\n",
       "      <td>-0.003077</td>\n",
       "      <td>0.009954</td>\n",
       "      <td>0.003320</td>\n",
       "      <td>0.010856</td>\n",
       "      <td>0.011791</td>\n",
       "      <td>0.005397</td>\n",
       "      <td>-0.002175</td>\n",
       "      <td>0.002054</td>\n",
       "      <td>-0.001266</td>\n",
       "      <td>-0.000531</td>\n",
       "      <td>...</td>\n",
       "      <td>0.026873</td>\n",
       "      <td>0.031568</td>\n",
       "      <td>0.017217</td>\n",
       "      <td>0.005725</td>\n",
       "      <td>0.021776</td>\n",
       "      <td>0.024183</td>\n",
       "      <td>0.601630</td>\n",
       "      <td>1.000000</td>\n",
       "      <td>0.000507</td>\n",
       "      <td>0.000549</td>\n",
       "    </tr>\n",
       "    <tr>\n",
       "      <th>url_shortened</th>\n",
       "      <td>-0.061796</td>\n",
       "      <td>-0.012898</td>\n",
       "      <td>-0.014459</td>\n",
       "      <td>-0.009459</td>\n",
       "      <td>0.011688</td>\n",
       "      <td>-0.014686</td>\n",
       "      <td>-0.006689</td>\n",
       "      <td>-0.011950</td>\n",
       "      <td>-0.002890</td>\n",
       "      <td>-0.001213</td>\n",
       "      <td>...</td>\n",
       "      <td>0.066050</td>\n",
       "      <td>0.091453</td>\n",
       "      <td>0.016269</td>\n",
       "      <td>-0.034699</td>\n",
       "      <td>0.041012</td>\n",
       "      <td>0.052923</td>\n",
       "      <td>-0.002072</td>\n",
       "      <td>0.000507</td>\n",
       "      <td>1.000000</td>\n",
       "      <td>0.094659</td>\n",
       "    </tr>\n",
       "    <tr>\n",
       "      <th>phishing</th>\n",
       "      <td>0.163043</td>\n",
       "      <td>0.184028</td>\n",
       "      <td>0.181386</td>\n",
       "      <td>0.673132</td>\n",
       "      <td>0.105353</td>\n",
       "      <td>0.248834</td>\n",
       "      <td>0.106767</td>\n",
       "      <td>0.182245</td>\n",
       "      <td>0.030410</td>\n",
       "      <td>0.018476</td>\n",
       "      <td>...</td>\n",
       "      <td>-0.026546</td>\n",
       "      <td>-0.084696</td>\n",
       "      <td>-0.073325</td>\n",
       "      <td>0.014473</td>\n",
       "      <td>-0.038392</td>\n",
       "      <td>-0.057070</td>\n",
       "      <td>-0.010189</td>\n",
       "      <td>0.000549</td>\n",
       "      <td>0.094659</td>\n",
       "      <td>1.000000</td>\n",
       "    </tr>\n",
       "  </tbody>\n",
       "</table>\n",
       "<p>112 rows × 112 columns</p>\n",
       "</div>"
      ],
      "text/plain": [
       "                      qty_dot_url  qty_hyphen_url  qty_underline_url  \\\n",
       "qty_dot_url              1.000000        0.107600           0.126028   \n",
       "qty_hyphen_url           0.107600        1.000000           0.215302   \n",
       "qty_underline_url        0.126028        0.215302           1.000000   \n",
       "qty_slash_url            0.242210        0.295733           0.239987   \n",
       "qty_questionmark_url     0.405045        0.059986           0.069116   \n",
       "...                           ...             ...                ...   \n",
       "qty_redirects           -0.050434        0.004012          -0.013307   \n",
       "url_google_index        -0.005120       -0.003107          -0.002160   \n",
       "domain_google_index     -0.003077        0.009954           0.003320   \n",
       "url_shortened           -0.061796       -0.012898          -0.014459   \n",
       "phishing                 0.163043        0.184028           0.181386   \n",
       "\n",
       "                      qty_slash_url  qty_questionmark_url  qty_equal_url  \\\n",
       "qty_dot_url                0.242210              0.405045       0.494532   \n",
       "qty_hyphen_url             0.295733              0.059986       0.172197   \n",
       "qty_underline_url          0.239987              0.069116       0.334090   \n",
       "qty_slash_url              1.000000              0.178576       0.276467   \n",
       "qty_questionmark_url       0.178576              1.000000       0.454710   \n",
       "...                             ...                   ...            ...   \n",
       "qty_redirects             -0.041647             -0.022817      -0.042616   \n",
       "url_google_index          -0.006157              0.014222      -0.000080   \n",
       "domain_google_index        0.010856              0.011791       0.005397   \n",
       "url_shortened             -0.009459              0.011688      -0.014686   \n",
       "phishing                   0.673132              0.105353       0.248834   \n",
       "\n",
       "                      qty_at_url  qty_and_url  qty_exclamation_url  \\\n",
       "qty_dot_url             0.174910     0.547784             0.005283   \n",
       "qty_hyphen_url          0.040471     0.126448             0.018232   \n",
       "qty_underline_url       0.055727     0.257867             0.065449   \n",
       "qty_slash_url           0.099174     0.194551             0.022920   \n",
       "qty_questionmark_url    0.135158     0.461259             0.018329   \n",
       "...                          ...          ...                  ...   \n",
       "qty_redirects          -0.018206    -0.029611             0.004559   \n",
       "url_google_index       -0.002269    -0.000145            -0.000934   \n",
       "domain_google_index    -0.002175     0.002054            -0.001266   \n",
       "url_shortened          -0.006689    -0.011950            -0.002890   \n",
       "phishing                0.106767     0.182245             0.030410   \n",
       "\n",
       "                      qty_space_url  ...  qty_ip_resolved  qty_nameservers  \\\n",
       "qty_dot_url               -0.002614  ...        -0.053114        -0.020060   \n",
       "qty_hyphen_url             0.018927  ...         0.037064         0.031053   \n",
       "qty_underline_url         -0.000963  ...         0.006283         0.021852   \n",
       "qty_slash_url              0.013435  ...        -0.045430        -0.045476   \n",
       "qty_questionmark_url       0.004008  ...        -0.027374        -0.004702   \n",
       "...                             ...  ...              ...              ...   \n",
       "qty_redirects             -0.007178  ...         0.281807         0.048744   \n",
       "url_google_index          -0.000392  ...         0.031676         0.033838   \n",
       "domain_google_index       -0.000531  ...         0.026873         0.031568   \n",
       "url_shortened             -0.001213  ...         0.066050         0.091453   \n",
       "phishing                   0.018476  ...        -0.026546        -0.084696   \n",
       "\n",
       "                      qty_mx_servers  ttl_hostname  tls_ssl_certificate  \\\n",
       "qty_dot_url                -0.048746      0.019453            -0.065235   \n",
       "qty_hyphen_url             -0.021645     -0.029828             0.011912   \n",
       "qty_underline_url          -0.005985     -0.025794             0.014261   \n",
       "qty_slash_url              -0.036069     -0.001656            -0.017637   \n",
       "qty_questionmark_url       -0.031665     -0.004418            -0.043555   \n",
       "...                              ...           ...                  ...   \n",
       "qty_redirects               0.129974      0.007350             0.290426   \n",
       "url_google_index            0.015275      0.005297             0.020628   \n",
       "domain_google_index         0.017217      0.005725             0.021776   \n",
       "url_shortened               0.016269     -0.034699             0.041012   \n",
       "phishing                   -0.073325      0.014473            -0.038392   \n",
       "\n",
       "                      qty_redirects  url_google_index  domain_google_index  \\\n",
       "qty_dot_url               -0.050434         -0.005120            -0.003077   \n",
       "qty_hyphen_url             0.004012         -0.003107             0.009954   \n",
       "qty_underline_url         -0.013307         -0.002160             0.003320   \n",
       "qty_slash_url             -0.041647         -0.006157             0.010856   \n",
       "qty_questionmark_url      -0.022817          0.014222             0.011791   \n",
       "...                             ...               ...                  ...   \n",
       "qty_redirects              1.000000          0.027470             0.024183   \n",
       "url_google_index           0.027470          1.000000             0.601630   \n",
       "domain_google_index        0.024183          0.601630             1.000000   \n",
       "url_shortened              0.052923         -0.002072             0.000507   \n",
       "phishing                  -0.057070         -0.010189             0.000549   \n",
       "\n",
       "                      url_shortened  phishing  \n",
       "qty_dot_url               -0.061796  0.163043  \n",
       "qty_hyphen_url            -0.012898  0.184028  \n",
       "qty_underline_url         -0.014459  0.181386  \n",
       "qty_slash_url             -0.009459  0.673132  \n",
       "qty_questionmark_url       0.011688  0.105353  \n",
       "...                             ...       ...  \n",
       "qty_redirects              0.052923 -0.057070  \n",
       "url_google_index          -0.002072 -0.010189  \n",
       "domain_google_index        0.000507  0.000549  \n",
       "url_shortened              1.000000  0.094659  \n",
       "phishing                   0.094659  1.000000  \n",
       "\n",
       "[112 rows x 112 columns]"
      ]
     },
     "execution_count": 9,
     "metadata": {},
     "output_type": "execute_result"
    }
   ],
   "source": [
    "df.corr()"
   ]
  },
  {
   "cell_type": "code",
   "execution_count": 11,
   "id": "de08534f",
   "metadata": {},
   "outputs": [
    {
     "data": {
      "text/plain": [
       "qty_dot_url             0.163043\n",
       "qty_hyphen_url          0.184028\n",
       "qty_underline_url       0.181386\n",
       "qty_slash_url           0.673132\n",
       "qty_questionmark_url    0.105353\n",
       "                          ...   \n",
       "qty_redirects          -0.057070\n",
       "url_google_index       -0.010189\n",
       "domain_google_index     0.000549\n",
       "url_shortened           0.094659\n",
       "phishing                1.000000\n",
       "Name: phishing, Length: 112, dtype: float64"
      ]
     },
     "execution_count": 11,
     "metadata": {},
     "output_type": "execute_result"
    }
   ],
   "source": [
    "df.corr()['phishing']"
   ]
  },
  {
   "cell_type": "code",
   "execution_count": 13,
   "id": "5529f8c7",
   "metadata": {},
   "outputs": [
    {
     "data": {
      "text/plain": [
       "<AxesSubplot:>"
      ]
     },
     "execution_count": 13,
     "metadata": {},
     "output_type": "execute_result"
    },
    {
     "data": {
      "image/png": "[encoded data removed]",
      "text/plain": [
       "<Figure size 432x288 with 2 Axes>"
      ]
     },
     "metadata": {
      "needs_background": "light"
     },
     "output_type": "display_data"
    }
   ],
   "source": [
    "sns.heatmap(df.corr())"
   ]
  },
  {
   "cell_type": "code",
   "execution_count": 62,
   "id": "66d0b1a4",
   "metadata": {},
   "outputs": [
    {
     "data": {
      "text/plain": [
       "<AxesSubplot:>"
      ]
     },
     "execution_count": 62,
     "metadata": {},
     "output_type": "execute_result"
    },
    {
     "data": {
      "image/png": "[encoded data removed]",
      "text/plain": [
       "<Figure size 432x288 with 2 Axes>"
      ]
     },
     "metadata": {
      "needs_background": "light"
     },
     "output_type": "display_data"
    }
   ],
   "source": [
    "figure\n",
    "\n",
    "corr_matrix = df.corr()['phishing']\n",
    "sns.heatmap(corr_matrix.to_frame(), annot=True, cmap='coolwarm', fmt=\".2f\")"
   ]
  },
  {
   "cell_type": "code",
   "execution_count": 14,
   "id": "a7efc135",
   "metadata": {},
   "outputs": [],
   "source": [
    "df1 = df.copy()"
   ]
  },
  {
   "cell_type": "code",
   "execution_count": 15,
   "id": "33089044",
   "metadata": {},
   "outputs": [
    {
     "name": "stdout",
     "output_type": "stream",
     "text": [
      "<class 'pandas.core.frame.DataFrame'>\n",
      "RangeIndex: 129698 entries, 0 to 129697\n",
      "Columns: 112 entries, qty_dot_url to phishing\n",
      "dtypes: float64(1), int64(111)\n",
      "memory usage: 110.8 MB\n"
     ]
    }
   ],
   "source": [
    "df1.info()"
   ]
  },
  {
   "cell_type": "code",
   "execution_count": 16,
   "id": "d5ea9d33",
   "metadata": {},
   "outputs": [],
   "source": [
    "columns_to_drop = ['qty_exclamation_url', 'qty_space_url', 'qty_ip_resolved', 'qty_nameservers', 'qty_mx_servers', 'ttl_hostname', 'tls_ssl_certificate', 'qty_redirects', 'url_google_index','qty_tilde_url','qty_comma_url', 'time_response','domain_spf','asn_ip','domain_google_index','url_shortened','qty_plus_url', 'qty_asterisk_url','qty_hashtag_url','qty_dollar_url','qty_percent_url','qty_underline_domain','qty_at_domain','domain_length','domain_in_ip','server_client_domain']"
   ]
  },
  {
   "cell_type": "code",
   "execution_count": 17,
   "id": "18061788",
   "metadata": {},
   "outputs": [],
   "source": [
    "for pair in columns_to_drop:\n",
    "    df.drop(columns=pair, inplace=True)"
   ]
  },
  {
   "cell_type": "code",
   "execution_count": 18,
   "id": "528a57e1",
   "metadata": {},
   "outputs": [
    {
     "name": "stdout",
     "output_type": "stream",
     "text": [
      "<class 'pandas.core.frame.DataFrame'>\n",
      "RangeIndex: 129698 entries, 0 to 129697\n",
      "Data columns (total 86 columns):\n",
      " #   Column                      Non-Null Count   Dtype\n",
      "---  ------                      --------------   -----\n",
      " 0   qty_dot_url                 129698 non-null  int64\n",
      " 1   qty_hyphen_url              129698 non-null  int64\n",
      " 2   qty_underline_url           129698 non-null  int64\n",
      " 3   qty_slash_url               129698 non-null  int64\n",
      " 4   qty_questionmark_url        129698 non-null  int64\n",
      " 5   qty_equal_url               129698 non-null  int64\n",
      " 6   qty_at_url                  129698 non-null  int64\n",
      " 7   qty_and_url                 129698 non-null  int64\n",
      " 8   qty_tld_url                 129698 non-null  int64\n",
      " 9   length_url                  129698 non-null  int64\n",
      " 10  qty_dot_domain              129698 non-null  int64\n",
      " 11  qty_hyphen_domain           129698 non-null  int64\n",
      " 12  qty_slash_domain            129698 non-null  int64\n",
      " 13  qty_questionmark_domain     129698 non-null  int64\n",
      " 14  qty_equal_domain            129698 non-null  int64\n",
      " 15  qty_and_domain              129698 non-null  int64\n",
      " 16  qty_exclamation_domain      129698 non-null  int64\n",
      " 17  qty_space_domain            129698 non-null  int64\n",
      " 18  qty_tilde_domain            129698 non-null  int64\n",
      " 19  qty_comma_domain            129698 non-null  int64\n",
      " 20  qty_plus_domain             129698 non-null  int64\n",
      " 21  qty_asterisk_domain         129698 non-null  int64\n",
      " 22  qty_hashtag_domain          129698 non-null  int64\n",
      " 23  qty_dollar_domain           129698 non-null  int64\n",
      " 24  qty_percent_domain          129698 non-null  int64\n",
      " 25  qty_vowels_domain           129698 non-null  int64\n",
      " 26  qty_dot_directory           129698 non-null  int64\n",
      " 27  qty_hyphen_directory        129698 non-null  int64\n",
      " 28  qty_underline_directory     129698 non-null  int64\n",
      " 29  qty_slash_directory         129698 non-null  int64\n",
      " 30  qty_questionmark_directory  129698 non-null  int64\n",
      " 31  qty_equal_directory         129698 non-null  int64\n",
      " 32  qty_at_directory            129698 non-null  int64\n",
      " 33  qty_and_directory           129698 non-null  int64\n",
      " 34  qty_exclamation_directory   129698 non-null  int64\n",
      " 35  qty_space_directory         129698 non-null  int64\n",
      " 36  qty_tilde_directory         129698 non-null  int64\n",
      " 37  qty_comma_directory         129698 non-null  int64\n",
      " 38  qty_plus_directory          129698 non-null  int64\n",
      " 39  qty_asterisk_directory      129698 non-null  int64\n",
      " 40  qty_hashtag_directory       129698 non-null  int64\n",
      " 41  qty_dollar_directory        129698 non-null  int64\n",
      " 42  qty_percent_directory       129698 non-null  int64\n",
      " 43  directory_length            129698 non-null  int64\n",
      " 44  qty_dot_file                129698 non-null  int64\n",
      " 45  qty_hyphen_file             129698 non-null  int64\n",
      " 46  qty_underline_file          129698 non-null  int64\n",
      " 47  qty_slash_file              129698 non-null  int64\n",
      " 48  qty_questionmark_file       129698 non-null  int64\n",
      " 49  qty_equal_file              129698 non-null  int64\n",
      " 50  qty_at_file                 129698 non-null  int64\n",
      " 51  qty_and_file                129698 non-null  int64\n",
      " 52  qty_exclamation_file        129698 non-null  int64\n",
      " 53  qty_space_file              129698 non-null  int64\n",
      " 54  qty_tilde_file              129698 non-null  int64\n",
      " 55  qty_comma_file              129698 non-null  int64\n",
      " 56  qty_plus_file               129698 non-null  int64\n",
      " 57  qty_asterisk_file           129698 non-null  int64\n",
      " 58  qty_hashtag_file            129698 non-null  int64\n",
      " 59  qty_dollar_file             129698 non-null  int64\n",
      " 60  qty_percent_file            129698 non-null  int64\n",
      " 61  file_length                 129698 non-null  int64\n",
      " 62  qty_dot_params              129698 non-null  int64\n",
      " 63  qty_hyphen_params           129698 non-null  int64\n",
      " 64  qty_underline_params        129698 non-null  int64\n",
      " 65  qty_slash_params            129698 non-null  int64\n",
      " 66  qty_questionmark_params     129698 non-null  int64\n",
      " 67  qty_equal_params            129698 non-null  int64\n",
      " 68  qty_at_params               129698 non-null  int64\n",
      " 69  qty_and_params              129698 non-null  int64\n",
      " 70  qty_exclamation_params      129698 non-null  int64\n",
      " 71  qty_space_params            129698 non-null  int64\n",
      " 72  qty_tilde_params            129698 non-null  int64\n",
      " 73  qty_comma_params            129698 non-null  int64\n",
      " 74  qty_plus_params             129698 non-null  int64\n",
      " 75  qty_asterisk_params         129698 non-null  int64\n",
      " 76  qty_hashtag_params          129698 non-null  int64\n",
      " 77  qty_dollar_params           129698 non-null  int64\n",
      " 78  qty_percent_params          129698 non-null  int64\n",
      " 79  params_length               129698 non-null  int64\n",
      " 80  tld_present_params          129698 non-null  int64\n",
      " 81  qty_params                  129698 non-null  int64\n",
      " 82  email_in_url                129698 non-null  int64\n",
      " 83  time_domain_activation      129698 non-null  int64\n",
      " 84  time_domain_expiration      129698 non-null  int64\n",
      " 85  phishing                    129698 non-null  int64\n",
      "dtypes: int64(86)\n",
      "memory usage: 85.1 MB\n"
     ]
    }
   ],
   "source": [
    "df.info()"
   ]
  },
  {
   "cell_type": "code",
   "execution_count": 19,
   "id": "2e75d68a",
   "metadata": {},
   "outputs": [
    {
     "data": {
      "text/plain": [
       "63135"
      ]
     },
     "execution_count": 19,
     "metadata": {},
     "output_type": "execute_result"
    }
   ],
   "source": [
    "df.duplicated().sum()"
   ]
  },
  {
   "cell_type": "code",
   "execution_count": 21,
   "id": "a9b1895d",
   "metadata": {},
   "outputs": [
    {
     "data": {
      "text/html": [
       "<div>\n",
       "<style scoped>\n",
       "    .dataframe tbody tr th:only-of-type {\n",
       "        vertical-align: middle;\n",
       "    }\n",
       "\n",
       "    .dataframe tbody tr th {\n",
       "        vertical-align: top;\n",
       "    }\n",
       "\n",
       "    .dataframe thead th {\n",
       "        text-align: right;\n",
       "    }\n",
       "</style>\n",
       "<table border=\"1\" class=\"dataframe\">\n",
       "  <thead>\n",
       "    <tr style=\"text-align: right;\">\n",
       "      <th></th>\n",
       "      <th>qty_dot_url</th>\n",
       "      <th>qty_hyphen_url</th>\n",
       "      <th>qty_underline_url</th>\n",
       "      <th>qty_slash_url</th>\n",
       "      <th>qty_questionmark_url</th>\n",
       "      <th>qty_equal_url</th>\n",
       "      <th>qty_at_url</th>\n",
       "      <th>qty_and_url</th>\n",
       "      <th>qty_tld_url</th>\n",
       "      <th>length_url</th>\n",
       "      <th>...</th>\n",
       "      <th>qty_hashtag_params</th>\n",
       "      <th>qty_dollar_params</th>\n",
       "      <th>qty_percent_params</th>\n",
       "      <th>params_length</th>\n",
       "      <th>tld_present_params</th>\n",
       "      <th>qty_params</th>\n",
       "      <th>email_in_url</th>\n",
       "      <th>time_domain_activation</th>\n",
       "      <th>time_domain_expiration</th>\n",
       "      <th>phishing</th>\n",
       "    </tr>\n",
       "  </thead>\n",
       "  <tbody>\n",
       "    <tr>\n",
       "      <th>174</th>\n",
       "      <td>2</td>\n",
       "      <td>1</td>\n",
       "      <td>0</td>\n",
       "      <td>0</td>\n",
       "      <td>0</td>\n",
       "      <td>0</td>\n",
       "      <td>0</td>\n",
       "      <td>0</td>\n",
       "      <td>2</td>\n",
       "      <td>13</td>\n",
       "      <td>...</td>\n",
       "      <td>-1</td>\n",
       "      <td>-1</td>\n",
       "      <td>-1</td>\n",
       "      <td>-1</td>\n",
       "      <td>-1</td>\n",
       "      <td>-1</td>\n",
       "      <td>0</td>\n",
       "      <td>4186</td>\n",
       "      <td>196</td>\n",
       "      <td>0</td>\n",
       "    </tr>\n",
       "    <tr>\n",
       "      <th>223</th>\n",
       "      <td>2</td>\n",
       "      <td>0</td>\n",
       "      <td>0</td>\n",
       "      <td>0</td>\n",
       "      <td>0</td>\n",
       "      <td>0</td>\n",
       "      <td>0</td>\n",
       "      <td>0</td>\n",
       "      <td>1</td>\n",
       "      <td>20</td>\n",
       "      <td>...</td>\n",
       "      <td>-1</td>\n",
       "      <td>-1</td>\n",
       "      <td>-1</td>\n",
       "      <td>-1</td>\n",
       "      <td>-1</td>\n",
       "      <td>-1</td>\n",
       "      <td>0</td>\n",
       "      <td>-1</td>\n",
       "      <td>-1</td>\n",
       "      <td>0</td>\n",
       "    </tr>\n",
       "    <tr>\n",
       "      <th>226</th>\n",
       "      <td>2</td>\n",
       "      <td>0</td>\n",
       "      <td>0</td>\n",
       "      <td>5</td>\n",
       "      <td>0</td>\n",
       "      <td>0</td>\n",
       "      <td>0</td>\n",
       "      <td>0</td>\n",
       "      <td>1</td>\n",
       "      <td>74</td>\n",
       "      <td>...</td>\n",
       "      <td>-1</td>\n",
       "      <td>-1</td>\n",
       "      <td>-1</td>\n",
       "      <td>-1</td>\n",
       "      <td>-1</td>\n",
       "      <td>-1</td>\n",
       "      <td>0</td>\n",
       "      <td>2483</td>\n",
       "      <td>73</td>\n",
       "      <td>1</td>\n",
       "    </tr>\n",
       "    <tr>\n",
       "      <th>267</th>\n",
       "      <td>2</td>\n",
       "      <td>0</td>\n",
       "      <td>0</td>\n",
       "      <td>3</td>\n",
       "      <td>0</td>\n",
       "      <td>0</td>\n",
       "      <td>0</td>\n",
       "      <td>0</td>\n",
       "      <td>1</td>\n",
       "      <td>46</td>\n",
       "      <td>...</td>\n",
       "      <td>-1</td>\n",
       "      <td>-1</td>\n",
       "      <td>-1</td>\n",
       "      <td>-1</td>\n",
       "      <td>-1</td>\n",
       "      <td>-1</td>\n",
       "      <td>0</td>\n",
       "      <td>-1</td>\n",
       "      <td>-1</td>\n",
       "      <td>0</td>\n",
       "    </tr>\n",
       "    <tr>\n",
       "      <th>354</th>\n",
       "      <td>1</td>\n",
       "      <td>0</td>\n",
       "      <td>0</td>\n",
       "      <td>2</td>\n",
       "      <td>0</td>\n",
       "      <td>0</td>\n",
       "      <td>0</td>\n",
       "      <td>0</td>\n",
       "      <td>1</td>\n",
       "      <td>67</td>\n",
       "      <td>...</td>\n",
       "      <td>0</td>\n",
       "      <td>0</td>\n",
       "      <td>0</td>\n",
       "      <td>40</td>\n",
       "      <td>0</td>\n",
       "      <td>0</td>\n",
       "      <td>0</td>\n",
       "      <td>3177</td>\n",
       "      <td>109</td>\n",
       "      <td>1</td>\n",
       "    </tr>\n",
       "    <tr>\n",
       "      <th>...</th>\n",
       "      <td>...</td>\n",
       "      <td>...</td>\n",
       "      <td>...</td>\n",
       "      <td>...</td>\n",
       "      <td>...</td>\n",
       "      <td>...</td>\n",
       "      <td>...</td>\n",
       "      <td>...</td>\n",
       "      <td>...</td>\n",
       "      <td>...</td>\n",
       "      <td>...</td>\n",
       "      <td>...</td>\n",
       "      <td>...</td>\n",
       "      <td>...</td>\n",
       "      <td>...</td>\n",
       "      <td>...</td>\n",
       "      <td>...</td>\n",
       "      <td>...</td>\n",
       "      <td>...</td>\n",
       "      <td>...</td>\n",
       "      <td>...</td>\n",
       "    </tr>\n",
       "    <tr>\n",
       "      <th>129691</th>\n",
       "      <td>2</td>\n",
       "      <td>0</td>\n",
       "      <td>0</td>\n",
       "      <td>0</td>\n",
       "      <td>0</td>\n",
       "      <td>0</td>\n",
       "      <td>0</td>\n",
       "      <td>0</td>\n",
       "      <td>1</td>\n",
       "      <td>21</td>\n",
       "      <td>...</td>\n",
       "      <td>-1</td>\n",
       "      <td>-1</td>\n",
       "      <td>-1</td>\n",
       "      <td>-1</td>\n",
       "      <td>-1</td>\n",
       "      <td>-1</td>\n",
       "      <td>0</td>\n",
       "      <td>-1</td>\n",
       "      <td>-1</td>\n",
       "      <td>0</td>\n",
       "    </tr>\n",
       "    <tr>\n",
       "      <th>129692</th>\n",
       "      <td>2</td>\n",
       "      <td>1</td>\n",
       "      <td>0</td>\n",
       "      <td>0</td>\n",
       "      <td>0</td>\n",
       "      <td>0</td>\n",
       "      <td>0</td>\n",
       "      <td>0</td>\n",
       "      <td>1</td>\n",
       "      <td>20</td>\n",
       "      <td>...</td>\n",
       "      <td>-1</td>\n",
       "      <td>-1</td>\n",
       "      <td>-1</td>\n",
       "      <td>-1</td>\n",
       "      <td>-1</td>\n",
       "      <td>-1</td>\n",
       "      <td>0</td>\n",
       "      <td>-1</td>\n",
       "      <td>-1</td>\n",
       "      <td>0</td>\n",
       "    </tr>\n",
       "    <tr>\n",
       "      <th>129695</th>\n",
       "      <td>2</td>\n",
       "      <td>1</td>\n",
       "      <td>0</td>\n",
       "      <td>5</td>\n",
       "      <td>0</td>\n",
       "      <td>0</td>\n",
       "      <td>0</td>\n",
       "      <td>0</td>\n",
       "      <td>1</td>\n",
       "      <td>70</td>\n",
       "      <td>...</td>\n",
       "      <td>-1</td>\n",
       "      <td>-1</td>\n",
       "      <td>-1</td>\n",
       "      <td>-1</td>\n",
       "      <td>-1</td>\n",
       "      <td>-1</td>\n",
       "      <td>0</td>\n",
       "      <td>1844</td>\n",
       "      <td>712</td>\n",
       "      <td>1</td>\n",
       "    </tr>\n",
       "    <tr>\n",
       "      <th>129696</th>\n",
       "      <td>2</td>\n",
       "      <td>0</td>\n",
       "      <td>0</td>\n",
       "      <td>1</td>\n",
       "      <td>0</td>\n",
       "      <td>0</td>\n",
       "      <td>0</td>\n",
       "      <td>0</td>\n",
       "      <td>1</td>\n",
       "      <td>28</td>\n",
       "      <td>...</td>\n",
       "      <td>-1</td>\n",
       "      <td>-1</td>\n",
       "      <td>-1</td>\n",
       "      <td>-1</td>\n",
       "      <td>-1</td>\n",
       "      <td>-1</td>\n",
       "      <td>0</td>\n",
       "      <td>-1</td>\n",
       "      <td>-1</td>\n",
       "      <td>1</td>\n",
       "    </tr>\n",
       "    <tr>\n",
       "      <th>129697</th>\n",
       "      <td>2</td>\n",
       "      <td>0</td>\n",
       "      <td>0</td>\n",
       "      <td>0</td>\n",
       "      <td>0</td>\n",
       "      <td>0</td>\n",
       "      <td>0</td>\n",
       "      <td>0</td>\n",
       "      <td>1</td>\n",
       "      <td>16</td>\n",
       "      <td>...</td>\n",
       "      <td>-1</td>\n",
       "      <td>-1</td>\n",
       "      <td>-1</td>\n",
       "      <td>-1</td>\n",
       "      <td>-1</td>\n",
       "      <td>-1</td>\n",
       "      <td>0</td>\n",
       "      <td>300</td>\n",
       "      <td>64</td>\n",
       "      <td>0</td>\n",
       "    </tr>\n",
       "  </tbody>\n",
       "</table>\n",
       "<p>63135 rows × 86 columns</p>\n",
       "</div>"
      ],
      "text/plain": [
       "        qty_dot_url  qty_hyphen_url  qty_underline_url  qty_slash_url  \\\n",
       "174               2               1                  0              0   \n",
       "223               2               0                  0              0   \n",
       "226               2               0                  0              5   \n",
       "267               2               0                  0              3   \n",
       "354               1               0                  0              2   \n",
       "...             ...             ...                ...            ...   \n",
       "129691            2               0                  0              0   \n",
       "129692            2               1                  0              0   \n",
       "129695            2               1                  0              5   \n",
       "129696            2               0                  0              1   \n",
       "129697            2               0                  0              0   \n",
       "\n",
       "        qty_questionmark_url  qty_equal_url  qty_at_url  qty_and_url  \\\n",
       "174                        0              0           0            0   \n",
       "223                        0              0           0            0   \n",
       "226                        0              0           0            0   \n",
       "267                        0              0           0            0   \n",
       "354                        0              0           0            0   \n",
       "...                      ...            ...         ...          ...   \n",
       "129691                     0              0           0            0   \n",
       "129692                     0              0           0            0   \n",
       "129695                     0              0           0            0   \n",
       "129696                     0              0           0            0   \n",
       "129697                     0              0           0            0   \n",
       "\n",
       "        qty_tld_url  length_url  ...  qty_hashtag_params  qty_dollar_params  \\\n",
       "174               2          13  ...                  -1                 -1   \n",
       "223               1          20  ...                  -1                 -1   \n",
       "226               1          74  ...                  -1                 -1   \n",
       "267               1          46  ...                  -1                 -1   \n",
       "354               1          67  ...                   0                  0   \n",
       "...             ...         ...  ...                 ...                ...   \n",
       "129691            1          21  ...                  -1                 -1   \n",
       "129692            1          20  ...                  -1                 -1   \n",
       "129695            1          70  ...                  -1                 -1   \n",
       "129696            1          28  ...                  -1                 -1   \n",
       "129697            1          16  ...                  -1                 -1   \n",
       "\n",
       "        qty_percent_params  params_length  tld_present_params  qty_params  \\\n",
       "174                     -1             -1                  -1          -1   \n",
       "223                     -1             -1                  -1          -1   \n",
       "226                     -1             -1                  -1          -1   \n",
       "267                     -1             -1                  -1          -1   \n",
       "354                      0             40                   0           0   \n",
       "...                    ...            ...                 ...         ...   \n",
       "129691                  -1             -1                  -1          -1   \n",
       "129692                  -1             -1                  -1          -1   \n",
       "129695                  -1             -1                  -1          -1   \n",
       "129696                  -1             -1                  -1          -1   \n",
       "129697                  -1             -1                  -1          -1   \n",
       "\n",
       "        email_in_url  time_domain_activation  time_domain_expiration  phishing  \n",
       "174                0                    4186                     196         0  \n",
       "223                0                      -1                      -1         0  \n",
       "226                0                    2483                      73         1  \n",
       "267                0                      -1                      -1         0  \n",
       "354                0                    3177                     109         1  \n",
       "...              ...                     ...                     ...       ...  \n",
       "129691             0                      -1                      -1         0  \n",
       "129692             0                      -1                      -1         0  \n",
       "129695             0                    1844                     712         1  \n",
       "129696             0                      -1                      -1         1  \n",
       "129697             0                     300                      64         0  \n",
       "\n",
       "[63135 rows x 86 columns]"
      ]
     },
     "execution_count": 21,
     "metadata": {},
     "output_type": "execute_result"
    }
   ],
   "source": [
    "df[df.duplicated()]"
   ]
  },
  {
   "cell_type": "markdown",
   "id": "b67e328f",
   "metadata": {},
   "source": [
    "# Removing class variable from the data set"
   ]
  },
  {
   "cell_type": "code",
   "execution_count": 23,
   "id": "dc15475d",
   "metadata": {},
   "outputs": [],
   "source": [
    "X = df.drop('phishing', axis = 1)\n",
    "y = df['phishing']"
   ]
  },
  {
   "cell_type": "code",
   "execution_count": 24,
   "id": "766d275c",
   "metadata": {},
   "outputs": [
    {
     "name": "stdout",
     "output_type": "stream",
     "text": [
      "129698 129698\n"
     ]
    }
   ],
   "source": [
    "print(len(X), len(y))"
   ]
  },
  {
   "cell_type": "markdown",
   "id": "96166150",
   "metadata": {},
   "source": [
    "# Splitting the data into train data, validation data and test data "
   ]
  },
  {
   "cell_type": "code",
   "execution_count": 42,
   "id": "eab1658e",
   "metadata": {},
   "outputs": [],
   "source": [
    "from sklearn.model_selection import train_test_split\n",
    "\n",
    "X_train, X_test, y_train, y_test = train_test_split(X, y, test_size=0.3, random_state=101)"
   ]
  },
  {
   "cell_type": "code",
   "execution_count": 43,
   "id": "3f836bc4",
   "metadata": {},
   "outputs": [
    {
     "name": "stdout",
     "output_type": "stream",
     "text": [
      "90788 38910 90788 38910\n"
     ]
    }
   ],
   "source": [
    "print(len(X_train),len(X_test),len(y_train),len(y_test))"
   ]
  },
  {
   "cell_type": "markdown",
   "id": "c9cdc486",
   "metadata": {},
   "source": [
    "# Now splitting the validation data into validation and test data so that we can keep aside the sample data to test"
   ]
  },
  {
   "cell_type": "code",
   "execution_count": 44,
   "id": "acb346a8",
   "metadata": {},
   "outputs": [],
   "source": [
    "from sklearn.model_selection import train_test_split\n",
    "\n",
    "X_valid_test, X_holdout, y_valid_test, y_holdout = train_test_split(X_test, y_test, test_size=0.5, random_state=101)"
   ]
  },
  {
   "cell_type": "code",
   "execution_count": 45,
   "id": "b6139e3b",
   "metadata": {},
   "outputs": [
    {
     "name": "stdout",
     "output_type": "stream",
     "text": [
      "19455 19455 19455 19455\n"
     ]
    }
   ],
   "source": [
    "print(len(X_valid_test),len(X_holdout),len(y_valid_test),len(y_holdout))"
   ]
  },
  {
   "cell_type": "code",
   "execution_count": 46,
   "id": "431f7e95",
   "metadata": {},
   "outputs": [
    {
     "data": {
      "text/plain": [
       "0    11654\n",
       "1     7801\n",
       "Name: phishing, dtype: int64"
      ]
     },
     "execution_count": 46,
     "metadata": {},
     "output_type": "execute_result"
    }
   ],
   "source": [
    "y_valid_test.value_counts()"
   ]
  },
  {
   "cell_type": "code",
   "execution_count": 47,
   "id": "0e20dacc",
   "metadata": {},
   "outputs": [
    {
     "data": {
      "text/plain": [
       "0    11705\n",
       "1     7750\n",
       "Name: phishing, dtype: int64"
      ]
     },
     "execution_count": 47,
     "metadata": {},
     "output_type": "execute_result"
    }
   ],
   "source": [
    "y_holdout.value_counts()"
   ]
  },
  {
   "cell_type": "markdown",
   "id": "24100cb4",
   "metadata": {},
   "source": [
    "# # Creating the model and fitting the data into the model"
   ]
  },
  {
   "cell_type": "code",
   "execution_count": 48,
   "id": "d36e7222",
   "metadata": {},
   "outputs": [
    {
     "data": {
      "text/plain": [
       "DecisionTreeClassifier()"
      ]
     },
     "execution_count": 48,
     "metadata": {},
     "output_type": "execute_result"
    }
   ],
   "source": [
    "from sklearn.tree import DecisionTreeClassifier\n",
    "\n",
    "model = DecisionTreeClassifier()\n",
    "model.fit(X_train,y_train)"
   ]
  },
  {
   "cell_type": "markdown",
   "id": "349d8738",
   "metadata": {},
   "source": [
    "# Predicting the result for test data"
   ]
  },
  {
   "cell_type": "code",
   "execution_count": 49,
   "id": "58a0658c",
   "metadata": {},
   "outputs": [],
   "source": [
    "validation_pred = model.predict(X_valid_test)"
   ]
  },
  {
   "cell_type": "markdown",
   "id": "9082adbb",
   "metadata": {},
   "source": [
    "# Creating confusion matrix and checking the accuracy"
   ]
  },
  {
   "cell_type": "code",
   "execution_count": 50,
   "id": "7e18a84d",
   "metadata": {},
   "outputs": [
    {
     "name": "stdout",
     "output_type": "stream",
     "text": [
      "[[11377   277]\n",
      " [  456  7345]]\n"
     ]
    },
    {
     "data": {
      "text/plain": [
       "0.9623233102030326"
      ]
     },
     "execution_count": 50,
     "metadata": {},
     "output_type": "execute_result"
    }
   ],
   "source": [
    "from sklearn.metrics import confusion_matrix,accuracy_score, plot_confusion_matrix\n",
    "\n",
    "cm = confusion_matrix(y_valid_test,validation_pred)\n",
    "print(cm)\n",
    "accuracy_score(y_valid_test,validation_pred)"
   ]
  },
  {
   "cell_type": "code",
   "execution_count": 55,
   "id": "f57ebe4f",
   "metadata": {},
   "outputs": [
    {
     "data": {
      "image/png": "[encoded data removed]",
      "text/plain": [
       "<Figure size 432x288 with 2 Axes>"
      ]
     },
     "metadata": {
      "needs_background": "light"
     },
     "output_type": "display_data"
    }
   ],
   "source": [
    "plot_confusion_matrix(model, X_valid_test, y_valid_test)\n",
    "plt.show()"
   ]
  },
  {
   "cell_type": "code",
   "execution_count": 56,
   "id": "6b21c6be",
   "metadata": {},
   "outputs": [],
   "source": [
    "holdout_pred = model.predict(X_holdout)"
   ]
  },
  {
   "cell_type": "code",
   "execution_count": 57,
   "id": "32a3c1e8",
   "metadata": {},
   "outputs": [
    {
     "name": "stdout",
     "output_type": "stream",
     "text": [
      "[[11395   310]\n",
      " [  433  7317]]\n"
     ]
    },
    {
     "data": {
      "text/plain": [
       "0.9618093035209457"
      ]
     },
     "execution_count": 57,
     "metadata": {},
     "output_type": "execute_result"
    }
   ],
   "source": [
    "cm_holdout = confusion_matrix(y_holdout,holdout_pred)\n",
    "print(cm_holdout)\n",
    "accuracy_score(y_holdout,holdout_pred)"
   ]
  },
  {
   "cell_type": "code",
   "execution_count": 58,
   "id": "106b9ff7",
   "metadata": {},
   "outputs": [
    {
     "data": {
      "image/png": "[encoded data removed]",
      "text/plain": [
       "<Figure size 432x288 with 2 Axes>"
      ]
     },
     "metadata": {
      "needs_background": "light"
     },
     "output_type": "display_data"
    }
   ],
   "source": [
    "plot_confusion_matrix(model, X_holdout, y_holdout)\n",
    "plt.show()"
   ]
  },
  {
   "cell_type": "code",
   "execution_count": 71,
   "id": "72401bfb",
   "metadata": {},
   "outputs": [],
   "source": [
    "from sklearn.metrics import mean_absolute_error, mean_squared_error"
   ]
  },
  {
   "cell_type": "code",
   "execution_count": 72,
   "id": "be360f7c",
   "metadata": {},
   "outputs": [
    {
     "data": {
      "text/plain": [
       "0.03176561295296839"
      ]
     },
     "execution_count": 72,
     "metadata": {},
     "output_type": "execute_result"
    }
   ],
   "source": [
    "mean_absolute_error(y_holdout,holdout_pred)"
   ]
  },
  {
   "cell_type": "code",
   "execution_count": 74,
   "id": "8cdafa75",
   "metadata": {},
   "outputs": [
    {
     "data": {
      "text/plain": [
       "0.1782291024299017"
      ]
     },
     "execution_count": 74,
     "metadata": {},
     "output_type": "execute_result"
    }
   ],
   "source": [
    "np.sqrt(mean_squared_error(y_holdout,holdout_pred))"
   ]
  },
  {
   "cell_type": "markdown",
   "id": "48d56365",
   "metadata": {},
   "source": [
    "# Using RandomForest"
   ]
  },
  {
   "cell_type": "code",
   "execution_count": 63,
   "id": "f54490ac",
   "metadata": {},
   "outputs": [
    {
     "data": {
      "text/plain": [
       "RandomForestClassifier()"
      ]
     },
     "execution_count": 63,
     "metadata": {},
     "output_type": "execute_result"
    }
   ],
   "source": [
    "from sklearn.ensemble import RandomForestClassifier\n",
    "\n",
    "model = RandomForestClassifier()\n",
    "model.fit(X_train,y_train)"
   ]
  },
  {
   "cell_type": "code",
   "execution_count": 64,
   "id": "1544b9bd",
   "metadata": {},
   "outputs": [],
   "source": [
    "validation_pred = model.predict(X_valid_test)"
   ]
  },
  {
   "cell_type": "code",
   "execution_count": 65,
   "id": "90662f02",
   "metadata": {},
   "outputs": [
    {
     "name": "stdout",
     "output_type": "stream",
     "text": [
      "[[11403   251]\n",
      " [  362  7439]]\n"
     ]
    },
    {
     "data": {
      "text/plain": [
       "0.9684913903880751"
      ]
     },
     "execution_count": 65,
     "metadata": {},
     "output_type": "execute_result"
    }
   ],
   "source": [
    "cm = confusion_matrix(y_valid_test,validation_pred)\n",
    "print(cm)\n",
    "accuracy_score(y_valid_test,validation_pred)"
   ]
  },
  {
   "cell_type": "code",
   "execution_count": 67,
   "id": "8338289d",
   "metadata": {},
   "outputs": [
    {
     "data": {
      "image/png": "[encoded data removed]",
      "text/plain": [
       "<Figure size 432x288 with 2 Axes>"
      ]
     },
     "metadata": {
      "needs_background": "light"
     },
     "output_type": "display_data"
    }
   ],
   "source": [
    "plot_confusion_matrix(model, X_valid_test, y_valid_test)\n",
    "plt.show()"
   ]
  },
  {
   "cell_type": "code",
   "execution_count": 68,
   "id": "773e6662",
   "metadata": {},
   "outputs": [],
   "source": [
    "holdout_pred = model.predict(X_holdout)"
   ]
  },
  {
   "cell_type": "code",
   "execution_count": 69,
   "id": "3b668504",
   "metadata": {},
   "outputs": [
    {
     "name": "stdout",
     "output_type": "stream",
     "text": [
      "[[11429   276]\n",
      " [  342  7408]]\n"
     ]
    },
    {
     "data": {
      "text/plain": [
       "0.9682343870470316"
      ]
     },
     "execution_count": 69,
     "metadata": {},
     "output_type": "execute_result"
    }
   ],
   "source": [
    "cm_holdout = confusion_matrix(y_holdout,holdout_pred)\n",
    "print(cm_holdout)\n",
    "accuracy_score(y_holdout,holdout_pred)"
   ]
  },
  {
   "cell_type": "code",
   "execution_count": 70,
   "id": "75d73661",
   "metadata": {},
   "outputs": [
    {
     "data": {
      "image/png": "[encoded data removed]",
      "text/plain": [
       "<Figure size 432x288 with 2 Axes>"
      ]
     },
     "metadata": {
      "needs_background": "light"
     },
     "output_type": "display_data"
    }
   ],
   "source": [
    "plot_confusion_matrix(model, X_holdout, y_holdout)\n",
    "plt.show()"
   ]
  },
  {
   "cell_type": "code",
   "execution_count": 76,
   "id": "ba308474",
   "metadata": {},
   "outputs": [
    {
     "data": {
      "text/plain": [
       "0.03176561295296839"
      ]
     },
     "execution_count": 76,
     "metadata": {},
     "output_type": "execute_result"
    }
   ],
   "source": [
    "from sklearn.metrics import mean_absolute_error, mean_squared_error\n",
    "\n",
    "mean_absolute_error(y_holdout,holdout_pred)"
   ]
  },
  {
   "cell_type": "code",
   "execution_count": 77,
   "id": "26d0c633",
   "metadata": {},
   "outputs": [
    {
     "data": {
      "text/plain": [
       "0.1782291024299017"
      ]
     },
     "execution_count": 77,
     "metadata": {},
     "output_type": "execute_result"
    }
   ],
   "source": [
    "np.sqrt(mean_squared_error(y_holdout,holdout_pred))"
   ]
  },
  {
   "cell_type": "code",
   "execution_count": null,
   "id": "97139bdb",
   "metadata": {},
   "outputs": [],
   "source": []
  }
 ],
 "metadata": {
  "kernelspec": {
   "display_name": "Python 3 (ipykernel)",
   "language": "python",
   "name": "python3"
  },
  "language_info": {
   "codemirror_mode": {
    "name": "ipython",
    "version": 3
   },
   "file_extension": ".py",
   "mimetype": "text/x-python",
   "name": "python",
   "nbconvert_exporter": "python",
   "pygments_lexer": "ipython3",
   "version": "3.9.7"
  }
 },
 "nbformat": 4,
 "nbformat_minor": 5
}
